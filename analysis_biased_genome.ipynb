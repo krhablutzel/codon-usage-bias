{
 "cells": [
  {
   "cell_type": "markdown",
   "id": "behind-library",
   "metadata": {},
   "source": [
    "# Predicting Viral Host from Codon Usage Bias\n",
    "\n",
    "### Kathleen Hablutzel\n",
    "### BIO 334/335 Bioinformatics Final Project\n",
    "\n",
    "This is the same code workflow as the analysis with the full genome."
   ]
  },
  {
   "cell_type": "code",
   "execution_count": 1,
   "id": "juvenile-raleigh",
   "metadata": {},
   "outputs": [],
   "source": [
    "import pandas as pd\n",
    "import numpy as np\n",
    "import matplotlib.pyplot as plt\n",
    "import seaborn as sns\n",
    "\n",
    "import math\n",
    "import itertools\n",
    "from sklearn.decomposition import PCA\n",
    "from sklearn.cluster import KMeans\n",
    "from sklearn.utils import shuffle\n",
    "from sklearn.svm import SVC\n",
    "from sklearn.neighbors import KNeighborsClassifier\n",
    "from sklearn.tree import DecisionTreeClassifier\n",
    "from sklearn.ensemble import RandomForestClassifier\n",
    "\n",
    "# all my helper functions\n",
    "from helper import *"
   ]
  },
  {
   "cell_type": "code",
   "execution_count": 2,
   "id": "employed-relief",
   "metadata": {},
   "outputs": [
    {
     "data": {
      "text/plain": [
       "(7426, 72)"
      ]
     },
     "execution_count": 2,
     "metadata": {},
     "output_type": "execute_result"
    }
   ],
   "source": [
    "# load data\n",
    "bias_pd = pd.read_csv(\"datasets/report/cub_biased_genome.csv\")\n",
    "bias_pd.shape"
   ]
  },
  {
   "cell_type": "code",
   "execution_count": 3,
   "id": "given-contact",
   "metadata": {},
   "outputs": [
    {
     "data": {
      "text/html": [
       "<div>\n",
       "<style scoped>\n",
       "    .dataframe tbody tr th:only-of-type {\n",
       "        vertical-align: middle;\n",
       "    }\n",
       "\n",
       "    .dataframe tbody tr th {\n",
       "        vertical-align: top;\n",
       "    }\n",
       "\n",
       "    .dataframe thead th {\n",
       "        text-align: right;\n",
       "    }\n",
       "</style>\n",
       "<table border=\"1\" class=\"dataframe\">\n",
       "  <thead>\n",
       "    <tr style=\"text-align: right;\">\n",
       "      <th></th>\n",
       "      <th>UUU</th>\n",
       "      <th>UUC</th>\n",
       "      <th>UUA</th>\n",
       "      <th>UUG</th>\n",
       "      <th>CUU</th>\n",
       "      <th>CUC</th>\n",
       "      <th>CUA</th>\n",
       "      <th>CUG</th>\n",
       "      <th>AUU</th>\n",
       "      <th>AUC</th>\n",
       "      <th>...</th>\n",
       "      <th>GGA</th>\n",
       "      <th>GGG</th>\n",
       "      <th>AccessionNum</th>\n",
       "      <th>SeqLen</th>\n",
       "      <th>BiasedSeqLen</th>\n",
       "      <th>PropBiasedRegions</th>\n",
       "      <th>Nc</th>\n",
       "      <th>BiasedNc</th>\n",
       "      <th>Species</th>\n",
       "      <th>Taxon</th>\n",
       "    </tr>\n",
       "  </thead>\n",
       "  <tbody>\n",
       "    <tr>\n",
       "      <th>0</th>\n",
       "      <td>0.357377</td>\n",
       "      <td>0.642623</td>\n",
       "      <td>0.035458</td>\n",
       "      <td>0.104243</td>\n",
       "      <td>0.099131</td>\n",
       "      <td>0.213422</td>\n",
       "      <td>0.065184</td>\n",
       "      <td>0.482563</td>\n",
       "      <td>0.277330</td>\n",
       "      <td>0.614248</td>\n",
       "      <td>...</td>\n",
       "      <td>0.200728</td>\n",
       "      <td>0.251400</td>\n",
       "      <td>GCF_903992535.2_mArvAmp1.2</td>\n",
       "      <td>77272509.0</td>\n",
       "      <td>26243760</td>\n",
       "      <td>0.3396</td>\n",
       "      <td>54.457136</td>\n",
       "      <td>49.593948</td>\n",
       "      <td>Arvicola_amphibius</td>\n",
       "      <td>vertebrate_mammalian</td>\n",
       "    </tr>\n",
       "    <tr>\n",
       "      <th>1</th>\n",
       "      <td>0.365337</td>\n",
       "      <td>0.634663</td>\n",
       "      <td>0.050157</td>\n",
       "      <td>0.098445</td>\n",
       "      <td>0.096961</td>\n",
       "      <td>0.220268</td>\n",
       "      <td>0.049994</td>\n",
       "      <td>0.484176</td>\n",
       "      <td>0.278849</td>\n",
       "      <td>0.594489</td>\n",
       "      <td>...</td>\n",
       "      <td>0.188971</td>\n",
       "      <td>0.282885</td>\n",
       "      <td>GCF_000493695.1_BalAcu1.0</td>\n",
       "      <td>69532407.0</td>\n",
       "      <td>30961362</td>\n",
       "      <td>0.4453</td>\n",
       "      <td>54.651624</td>\n",
       "      <td>49.077540</td>\n",
       "      <td>Balaenoptera_acutorostrata</td>\n",
       "      <td>vertebrate_mammalian</td>\n",
       "    </tr>\n",
       "    <tr>\n",
       "      <th>2</th>\n",
       "      <td>0.371288</td>\n",
       "      <td>0.628712</td>\n",
       "      <td>0.054070</td>\n",
       "      <td>0.102735</td>\n",
       "      <td>0.100069</td>\n",
       "      <td>0.220455</td>\n",
       "      <td>0.050968</td>\n",
       "      <td>0.471703</td>\n",
       "      <td>0.288741</td>\n",
       "      <td>0.580296</td>\n",
       "      <td>...</td>\n",
       "      <td>0.196635</td>\n",
       "      <td>0.278049</td>\n",
       "      <td>GCF_000754665.1_Bison_UMD1.0</td>\n",
       "      <td>62252778.0</td>\n",
       "      <td>26328582</td>\n",
       "      <td>0.4229</td>\n",
       "      <td>54.839233</td>\n",
       "      <td>49.899251</td>\n",
       "      <td>Bison_bison</td>\n",
       "      <td>vertebrate_mammalian</td>\n",
       "    </tr>\n",
       "    <tr>\n",
       "      <th>3</th>\n",
       "      <td>0.348407</td>\n",
       "      <td>0.651593</td>\n",
       "      <td>0.044989</td>\n",
       "      <td>0.095981</td>\n",
       "      <td>0.091464</td>\n",
       "      <td>0.225333</td>\n",
       "      <td>0.047891</td>\n",
       "      <td>0.494342</td>\n",
       "      <td>0.273083</td>\n",
       "      <td>0.609025</td>\n",
       "      <td>...</td>\n",
       "      <td>0.182954</td>\n",
       "      <td>0.282460</td>\n",
       "      <td>GCF_000247795.1_Bos_indicus_1.0</td>\n",
       "      <td>64918074.0</td>\n",
       "      <td>31421865</td>\n",
       "      <td>0.4840</td>\n",
       "      <td>53.953278</td>\n",
       "      <td>48.318396</td>\n",
       "      <td>Bos_indicus</td>\n",
       "      <td>vertebrate_mammalian</td>\n",
       "    </tr>\n",
       "    <tr>\n",
       "      <th>4</th>\n",
       "      <td>0.339304</td>\n",
       "      <td>0.660696</td>\n",
       "      <td>0.041498</td>\n",
       "      <td>0.094636</td>\n",
       "      <td>0.088775</td>\n",
       "      <td>0.225838</td>\n",
       "      <td>0.048453</td>\n",
       "      <td>0.500799</td>\n",
       "      <td>0.266361</td>\n",
       "      <td>0.621156</td>\n",
       "      <td>...</td>\n",
       "      <td>0.172288</td>\n",
       "      <td>0.287098</td>\n",
       "      <td>GCF_002288905.1_ASM228890v2</td>\n",
       "      <td>67099479.0</td>\n",
       "      <td>32735730</td>\n",
       "      <td>0.4879</td>\n",
       "      <td>53.983387</td>\n",
       "      <td>47.681397</td>\n",
       "      <td>Enhydra_lutris</td>\n",
       "      <td>vertebrate_mammalian</td>\n",
       "    </tr>\n",
       "  </tbody>\n",
       "</table>\n",
       "<p>5 rows × 72 columns</p>\n",
       "</div>"
      ],
      "text/plain": [
       "        UUU       UUC       UUA       UUG       CUU       CUC       CUA  \\\n",
       "0  0.357377  0.642623  0.035458  0.104243  0.099131  0.213422  0.065184   \n",
       "1  0.365337  0.634663  0.050157  0.098445  0.096961  0.220268  0.049994   \n",
       "2  0.371288  0.628712  0.054070  0.102735  0.100069  0.220455  0.050968   \n",
       "3  0.348407  0.651593  0.044989  0.095981  0.091464  0.225333  0.047891   \n",
       "4  0.339304  0.660696  0.041498  0.094636  0.088775  0.225838  0.048453   \n",
       "\n",
       "        CUG       AUU       AUC  ...       GGA       GGG  \\\n",
       "0  0.482563  0.277330  0.614248  ...  0.200728  0.251400   \n",
       "1  0.484176  0.278849  0.594489  ...  0.188971  0.282885   \n",
       "2  0.471703  0.288741  0.580296  ...  0.196635  0.278049   \n",
       "3  0.494342  0.273083  0.609025  ...  0.182954  0.282460   \n",
       "4  0.500799  0.266361  0.621156  ...  0.172288  0.287098   \n",
       "\n",
       "                      AccessionNum      SeqLen  BiasedSeqLen  \\\n",
       "0       GCF_903992535.2_mArvAmp1.2  77272509.0      26243760   \n",
       "1        GCF_000493695.1_BalAcu1.0  69532407.0      30961362   \n",
       "2     GCF_000754665.1_Bison_UMD1.0  62252778.0      26328582   \n",
       "3  GCF_000247795.1_Bos_indicus_1.0  64918074.0      31421865   \n",
       "4      GCF_002288905.1_ASM228890v2  67099479.0      32735730   \n",
       "\n",
       "   PropBiasedRegions         Nc   BiasedNc                     Species  \\\n",
       "0             0.3396  54.457136  49.593948          Arvicola_amphibius   \n",
       "1             0.4453  54.651624  49.077540  Balaenoptera_acutorostrata   \n",
       "2             0.4229  54.839233  49.899251                 Bison_bison   \n",
       "3             0.4840  53.953278  48.318396                 Bos_indicus   \n",
       "4             0.4879  53.983387  47.681397              Enhydra_lutris   \n",
       "\n",
       "                  Taxon  \n",
       "0  vertebrate_mammalian  \n",
       "1  vertebrate_mammalian  \n",
       "2  vertebrate_mammalian  \n",
       "3  vertebrate_mammalian  \n",
       "4  vertebrate_mammalian  \n",
       "\n",
       "[5 rows x 72 columns]"
      ]
     },
     "execution_count": 3,
     "metadata": {},
     "output_type": "execute_result"
    }
   ],
   "source": [
    "bias_pd.head()"
   ]
  },
  {
   "cell_type": "code",
   "execution_count": 4,
   "id": "afraid-palace",
   "metadata": {},
   "outputs": [],
   "source": [
    "# store which columns we drop to just get 59 codons\n",
    "drop_columns = [\"AUG\", \"UGA\", \"UAA\", \"UAG\", \"UGG\", \"AccessionNum\", \"SeqLen\", \"BiasedSeqLen\", \"PropBiasedRegions\",\n",
    "                \"Nc\", \"BiasedNc\", \"Species\", \"Taxon\"]"
   ]
  },
  {
   "cell_type": "markdown",
   "id": "heavy-encoding",
   "metadata": {},
   "source": [
    "### Visualizations"
   ]
  },
  {
   "cell_type": "code",
   "execution_count": 5,
   "id": "egyptian-louis",
   "metadata": {},
   "outputs": [],
   "source": [
    "# summarize entire dataset in 2d\n",
    "bias_2d = reduce_dim(bias_pd, dim=2, drop_columns=drop_columns, vertebrate=False)"
   ]
  },
  {
   "cell_type": "code",
   "execution_count": 6,
   "id": "convenient-tobacco",
   "metadata": {},
   "outputs": [
    {
     "data": {
      "image/png": "[encoded data removed]",
      "text/plain": [
       "<Figure size 432x288 with 1 Axes>"
      ]
     },
     "metadata": {
      "needs_background": "light"
     },
     "output_type": "display_data"
    }
   ],
   "source": [
    "# plot of all CUB in the dataset - overwhelmed by the number of viruses vs. other organisms\n",
    "sns.scatterplot(data=bias_2d, x='Dim1', y='Dim2', hue='Taxon')\n",
    "plt.xlabel('Principal Component 1')\n",
    "plt.ylabel('Principal Component 2');"
   ]
  },
  {
   "cell_type": "code",
   "execution_count": 7,
   "id": "gothic-jerusalem",
   "metadata": {},
   "outputs": [
    {
     "data": {
      "image/png": "[encoded data removed]",
      "text/plain": [
       "<Figure size 432x288 with 1 Axes>"
      ]
     },
     "metadata": {
      "needs_background": "light"
     },
     "output_type": "display_data"
    }
   ],
   "source": [
    "# plot with fewer viruses - still hard to see any meaningful differences\n",
    "sns.scatterplot(data=bias_2d.head(1000), x='Dim1', y='Dim2', hue='Taxon')\n",
    "plt.xlabel('Principal Component 1')\n",
    "plt.ylabel('Principal Component 2');"
   ]
  },
  {
   "cell_type": "markdown",
   "id": "flexible-pursuit",
   "metadata": {},
   "source": [
    "## Identifying virus host from CUB\n",
    "Pull in extra viral host data from: https://www.ncbi.nlm.nih.gov/genomes/GenomesGroup.cgi?taxid=10239&cmd=download2\n",
    "(On https://www.ncbi.nlm.nih.gov/genome/viruses/, it's the Accession List of all viral genomes)"
   ]
  },
  {
   "cell_type": "code",
   "execution_count": 8,
   "id": "sunrise-allergy",
   "metadata": {},
   "outputs": [
    {
     "name": "stdout",
     "output_type": "stream",
     "text": [
      "(16095, 2)\n"
     ]
    },
    {
     "data": {
      "text/html": [
       "<div>\n",
       "<style scoped>\n",
       "    .dataframe tbody tr th:only-of-type {\n",
       "        vertical-align: middle;\n",
       "    }\n",
       "\n",
       "    .dataframe tbody tr th {\n",
       "        vertical-align: top;\n",
       "    }\n",
       "\n",
       "    .dataframe thead th {\n",
       "        text-align: right;\n",
       "    }\n",
       "</style>\n",
       "<table border=\"1\" class=\"dataframe\">\n",
       "  <thead>\n",
       "    <tr style=\"text-align: right;\">\n",
       "      <th></th>\n",
       "      <th>Host</th>\n",
       "      <th>Taxonomy name</th>\n",
       "    </tr>\n",
       "  </thead>\n",
       "  <tbody>\n",
       "    <tr>\n",
       "      <th>0</th>\n",
       "      <td>human,vertebrates</td>\n",
       "      <td>Cowpox virus</td>\n",
       "    </tr>\n",
       "    <tr>\n",
       "      <th>1</th>\n",
       "      <td>human,vertebrates</td>\n",
       "      <td>Monkeypox virus</td>\n",
       "    </tr>\n",
       "    <tr>\n",
       "      <th>2</th>\n",
       "      <td>human,vertebrates</td>\n",
       "      <td>Monkeypox virus Zaire-96-I-16</td>\n",
       "    </tr>\n",
       "    <tr>\n",
       "      <th>3</th>\n",
       "      <td>human,vertebrates</td>\n",
       "      <td>Vaccinia virus</td>\n",
       "    </tr>\n",
       "    <tr>\n",
       "      <th>4</th>\n",
       "      <td>human,vertebrates</td>\n",
       "      <td>Vaccinia virus Copenhagen</td>\n",
       "    </tr>\n",
       "    <tr>\n",
       "      <th>5</th>\n",
       "      <td>human,vertebrates</td>\n",
       "      <td>Vaccinia virus Ankara</td>\n",
       "    </tr>\n",
       "    <tr>\n",
       "      <th>6</th>\n",
       "      <td>human,vertebrates</td>\n",
       "      <td>Vaccinia virus Tian Tan</td>\n",
       "    </tr>\n",
       "    <tr>\n",
       "      <th>7</th>\n",
       "      <td>human,vertebrates</td>\n",
       "      <td>Rabbitpox virus</td>\n",
       "    </tr>\n",
       "    <tr>\n",
       "      <th>8</th>\n",
       "      <td>human,vertebrates</td>\n",
       "      <td>Horsepox virus</td>\n",
       "    </tr>\n",
       "    <tr>\n",
       "      <th>9</th>\n",
       "      <td>human,vertebrates</td>\n",
       "      <td>Buffalopox virus</td>\n",
       "    </tr>\n",
       "  </tbody>\n",
       "</table>\n",
       "</div>"
      ],
      "text/plain": [
       "                Host                  Taxonomy name\n",
       "0  human,vertebrates                   Cowpox virus\n",
       "1  human,vertebrates                Monkeypox virus\n",
       "2  human,vertebrates  Monkeypox virus Zaire-96-I-16\n",
       "3  human,vertebrates                 Vaccinia virus\n",
       "4  human,vertebrates      Vaccinia virus Copenhagen\n",
       "5  human,vertebrates          Vaccinia virus Ankara\n",
       "6  human,vertebrates        Vaccinia virus Tian Tan\n",
       "7  human,vertebrates                Rabbitpox virus\n",
       "8  human,vertebrates                 Horsepox virus\n",
       "9  human,vertebrates               Buffalopox virus"
      ]
     },
     "execution_count": 8,
     "metadata": {},
     "output_type": "execute_result"
    }
   ],
   "source": [
    "# read in viral data\n",
    "hosts = pd.read_csv(\"datasets/viral_hosts.csv\", skiprows=[0])\n",
    "hosts = hosts.drop(columns=[\"Neighbor\", \"Segment name\", \"Representative\", \"Selected lineage\"])\n",
    "\n",
    "# remove duplicate entries for each virus\n",
    "hosts = hosts.drop_duplicates(ignore_index=True).dropna()\n",
    "print(hosts.shape)\n",
    "hosts.head(10)"
   ]
  },
  {
   "cell_type": "code",
   "execution_count": 9,
   "id": "recent-barbados",
   "metadata": {},
   "outputs": [
    {
     "data": {
      "text/html": [
       "<div>\n",
       "<style scoped>\n",
       "    .dataframe tbody tr th:only-of-type {\n",
       "        vertical-align: middle;\n",
       "    }\n",
       "\n",
       "    .dataframe tbody tr th {\n",
       "        vertical-align: top;\n",
       "    }\n",
       "\n",
       "    .dataframe thead th {\n",
       "        text-align: right;\n",
       "    }\n",
       "</style>\n",
       "<table border=\"1\" class=\"dataframe\">\n",
       "  <thead>\n",
       "    <tr style=\"text-align: right;\">\n",
       "      <th></th>\n",
       "      <th>Host</th>\n",
       "      <th>Taxonomy name</th>\n",
       "      <th>Species</th>\n",
       "      <th>Human_Host</th>\n",
       "    </tr>\n",
       "  </thead>\n",
       "  <tbody>\n",
       "    <tr>\n",
       "      <th>0</th>\n",
       "      <td>human,vertebrates</td>\n",
       "      <td>Cowpox virus</td>\n",
       "      <td>Cowpox_virus</td>\n",
       "      <td>True</td>\n",
       "    </tr>\n",
       "    <tr>\n",
       "      <th>1</th>\n",
       "      <td>human,vertebrates</td>\n",
       "      <td>Monkeypox virus</td>\n",
       "      <td>Monkeypox_virus</td>\n",
       "      <td>True</td>\n",
       "    </tr>\n",
       "    <tr>\n",
       "      <th>2</th>\n",
       "      <td>human,vertebrates</td>\n",
       "      <td>Monkeypox virus Zaire-96-I-16</td>\n",
       "      <td>Monkeypox_virus_Zaire-96-I-16</td>\n",
       "      <td>True</td>\n",
       "    </tr>\n",
       "    <tr>\n",
       "      <th>3</th>\n",
       "      <td>human,vertebrates</td>\n",
       "      <td>Vaccinia virus</td>\n",
       "      <td>Vaccinia_virus</td>\n",
       "      <td>True</td>\n",
       "    </tr>\n",
       "    <tr>\n",
       "      <th>4</th>\n",
       "      <td>human,vertebrates</td>\n",
       "      <td>Vaccinia virus Copenhagen</td>\n",
       "      <td>Vaccinia_virus_Copenhagen</td>\n",
       "      <td>True</td>\n",
       "    </tr>\n",
       "  </tbody>\n",
       "</table>\n",
       "</div>"
      ],
      "text/plain": [
       "                Host                  Taxonomy name  \\\n",
       "0  human,vertebrates                   Cowpox virus   \n",
       "1  human,vertebrates                Monkeypox virus   \n",
       "2  human,vertebrates  Monkeypox virus Zaire-96-I-16   \n",
       "3  human,vertebrates                 Vaccinia virus   \n",
       "4  human,vertebrates      Vaccinia virus Copenhagen   \n",
       "\n",
       "                         Species  Human_Host  \n",
       "0                   Cowpox_virus        True  \n",
       "1                Monkeypox_virus        True  \n",
       "2  Monkeypox_virus_Zaire-96-I-16        True  \n",
       "3                 Vaccinia_virus        True  \n",
       "4      Vaccinia_virus_Copenhagen        True  "
      ]
     },
     "execution_count": 9,
     "metadata": {},
     "output_type": "execute_result"
    }
   ],
   "source": [
    "# follow CUB dataset naming convention\n",
    "hosts['Species'] = hosts['Taxonomy name'].apply(lambda x: x.replace(\" \", \"_\"))\n",
    "\n",
    "# column for whether human is host or not\n",
    "hosts['Human_Host'] = hosts['Host'].apply(lambda x: \"human\" in x)\n",
    "hosts.head()"
   ]
  },
  {
   "cell_type": "code",
   "execution_count": 10,
   "id": "specific-investigation",
   "metadata": {},
   "outputs": [
    {
     "data": {
      "text/plain": [
       "(3037, 75)"
      ]
     },
     "execution_count": 10,
     "metadata": {},
     "output_type": "execute_result"
    }
   ],
   "source": [
    "# join in host info where matches any viruses in the CUB dataset\n",
    "# inner join -> only keep species w/ info in both datasets\n",
    "virus_cub = pd.merge(bias_pd, hosts, on=\"Species\")\n",
    "virus_cub.shape"
   ]
  },
  {
   "cell_type": "code",
   "execution_count": 11,
   "id": "exterior-bible",
   "metadata": {},
   "outputs": [
    {
     "data": {
      "text/plain": [
       "154"
      ]
     },
     "execution_count": 11,
     "metadata": {},
     "output_type": "execute_result"
    }
   ],
   "source": [
    "# 154 viruses w/ human host\n",
    "human_sum = np.sum(virus_cub[\"Human_Host\"])\n",
    "human_sum"
   ]
  },
  {
   "cell_type": "code",
   "execution_count": 12,
   "id": "weird-battery",
   "metadata": {},
   "outputs": [
    {
     "data": {
      "text/plain": [
       "(308, 75)"
      ]
     },
     "execution_count": 12,
     "metadata": {},
     "output_type": "execute_result"
    }
   ],
   "source": [
    "# keep equal numbers human and non-human viruses\n",
    "# (otherwise non-human viruses overwhelm the dataset)\n",
    "np.random.seed(88)\n",
    "virus_human = virus_cub[virus_cub[\"Human_Host\"]]\n",
    "virus_non_human = virus_cub[~virus_cub[\"Human_Host\"]]\n",
    "virus_non_human = shuffle(virus_non_human).head(human_sum)  # keep random viruses - same amt as human viruses\n",
    "\n",
    "virus_cub_short = pd.concat([virus_human, virus_non_human])\n",
    "virus_cub_short.shape"
   ]
  },
  {
   "cell_type": "code",
   "execution_count": 13,
   "id": "coastal-suffering",
   "metadata": {},
   "outputs": [
    {
     "data": {
      "text/html": [
       "<div>\n",
       "<style scoped>\n",
       "    .dataframe tbody tr th:only-of-type {\n",
       "        vertical-align: middle;\n",
       "    }\n",
       "\n",
       "    .dataframe tbody tr th {\n",
       "        vertical-align: top;\n",
       "    }\n",
       "\n",
       "    .dataframe thead th {\n",
       "        text-align: right;\n",
       "    }\n",
       "</style>\n",
       "<table border=\"1\" class=\"dataframe\">\n",
       "  <thead>\n",
       "    <tr style=\"text-align: right;\">\n",
       "      <th></th>\n",
       "      <th>UUU</th>\n",
       "      <th>UUC</th>\n",
       "      <th>UUA</th>\n",
       "      <th>UUG</th>\n",
       "      <th>CUU</th>\n",
       "      <th>CUC</th>\n",
       "      <th>CUA</th>\n",
       "      <th>CUG</th>\n",
       "      <th>AUU</th>\n",
       "      <th>AUC</th>\n",
       "      <th>...</th>\n",
       "      <th>SeqLen</th>\n",
       "      <th>BiasedSeqLen</th>\n",
       "      <th>PropBiasedRegions</th>\n",
       "      <th>Nc</th>\n",
       "      <th>BiasedNc</th>\n",
       "      <th>Species</th>\n",
       "      <th>Taxon</th>\n",
       "      <th>Host</th>\n",
       "      <th>Taxonomy name</th>\n",
       "      <th>Human_Host</th>\n",
       "    </tr>\n",
       "  </thead>\n",
       "  <tbody>\n",
       "    <tr>\n",
       "      <th>39</th>\n",
       "      <td>0.138614</td>\n",
       "      <td>0.861386</td>\n",
       "      <td>0.009050</td>\n",
       "      <td>0.045249</td>\n",
       "      <td>0.167421</td>\n",
       "      <td>0.597285</td>\n",
       "      <td>0.027149</td>\n",
       "      <td>0.153846</td>\n",
       "      <td>0.113043</td>\n",
       "      <td>0.869565</td>\n",
       "      <td>...</td>\n",
       "      <td>7302.0</td>\n",
       "      <td>7302</td>\n",
       "      <td>1.0000</td>\n",
       "      <td>39.524815</td>\n",
       "      <td>39.524815</td>\n",
       "      <td>Aichivirus_A</td>\n",
       "      <td>viral</td>\n",
       "      <td>human,vertebrates</td>\n",
       "      <td>Aichivirus A</td>\n",
       "      <td>True</td>\n",
       "    </tr>\n",
       "    <tr>\n",
       "      <th>44</th>\n",
       "      <td>0.867647</td>\n",
       "      <td>0.132353</td>\n",
       "      <td>0.251701</td>\n",
       "      <td>0.217687</td>\n",
       "      <td>0.136054</td>\n",
       "      <td>0.027211</td>\n",
       "      <td>0.136054</td>\n",
       "      <td>0.231293</td>\n",
       "      <td>0.506173</td>\n",
       "      <td>0.049383</td>\n",
       "      <td>...</td>\n",
       "      <td>7050.0</td>\n",
       "      <td>5460</td>\n",
       "      <td>0.7745</td>\n",
       "      <td>53.511482</td>\n",
       "      <td>52.667167</td>\n",
       "      <td>Alphapapillomavirus_3</td>\n",
       "      <td>viral</td>\n",
       "      <td>human</td>\n",
       "      <td>Alphapapillomavirus 3</td>\n",
       "      <td>True</td>\n",
       "    </tr>\n",
       "    <tr>\n",
       "      <th>45</th>\n",
       "      <td>0.950000</td>\n",
       "      <td>0.050000</td>\n",
       "      <td>0.541899</td>\n",
       "      <td>0.167598</td>\n",
       "      <td>0.078212</td>\n",
       "      <td>0.005587</td>\n",
       "      <td>0.117318</td>\n",
       "      <td>0.089385</td>\n",
       "      <td>0.500000</td>\n",
       "      <td>0.016129</td>\n",
       "      <td>...</td>\n",
       "      <td>7446.0</td>\n",
       "      <td>6618</td>\n",
       "      <td>0.8888</td>\n",
       "      <td>44.670709</td>\n",
       "      <td>43.318601</td>\n",
       "      <td>Alphapapillomavirus_9</td>\n",
       "      <td>viral</td>\n",
       "      <td>human</td>\n",
       "      <td>Alphapapillomavirus 9</td>\n",
       "      <td>True</td>\n",
       "    </tr>\n",
       "    <tr>\n",
       "      <th>81</th>\n",
       "      <td>0.677966</td>\n",
       "      <td>0.322034</td>\n",
       "      <td>0.205036</td>\n",
       "      <td>0.273381</td>\n",
       "      <td>0.143885</td>\n",
       "      <td>0.079137</td>\n",
       "      <td>0.165468</td>\n",
       "      <td>0.133094</td>\n",
       "      <td>0.441860</td>\n",
       "      <td>0.279070</td>\n",
       "      <td>...</td>\n",
       "      <td>10071.0</td>\n",
       "      <td>6633</td>\n",
       "      <td>0.6586</td>\n",
       "      <td>50.229824</td>\n",
       "      <td>49.511421</td>\n",
       "      <td>Argentinian_mammarenavirus</td>\n",
       "      <td>viral</td>\n",
       "      <td>human,vertebrates</td>\n",
       "      <td>Argentinian mammarenavirus</td>\n",
       "      <td>True</td>\n",
       "    </tr>\n",
       "    <tr>\n",
       "      <th>105</th>\n",
       "      <td>0.779070</td>\n",
       "      <td>0.220930</td>\n",
       "      <td>0.236989</td>\n",
       "      <td>0.232342</td>\n",
       "      <td>0.298327</td>\n",
       "      <td>0.060409</td>\n",
       "      <td>0.095725</td>\n",
       "      <td>0.076208</td>\n",
       "      <td>0.533742</td>\n",
       "      <td>0.085890</td>\n",
       "      <td>...</td>\n",
       "      <td>38286.0</td>\n",
       "      <td>36633</td>\n",
       "      <td>0.9568</td>\n",
       "      <td>45.779523</td>\n",
       "      <td>45.499817</td>\n",
       "      <td>Avian_coronavirus</td>\n",
       "      <td>viral</td>\n",
       "      <td>human,vertebrates</td>\n",
       "      <td>Avian coronavirus</td>\n",
       "      <td>True</td>\n",
       "    </tr>\n",
       "  </tbody>\n",
       "</table>\n",
       "<p>5 rows × 75 columns</p>\n",
       "</div>"
      ],
      "text/plain": [
       "          UUU       UUC       UUA       UUG       CUU       CUC       CUA  \\\n",
       "39   0.138614  0.861386  0.009050  0.045249  0.167421  0.597285  0.027149   \n",
       "44   0.867647  0.132353  0.251701  0.217687  0.136054  0.027211  0.136054   \n",
       "45   0.950000  0.050000  0.541899  0.167598  0.078212  0.005587  0.117318   \n",
       "81   0.677966  0.322034  0.205036  0.273381  0.143885  0.079137  0.165468   \n",
       "105  0.779070  0.220930  0.236989  0.232342  0.298327  0.060409  0.095725   \n",
       "\n",
       "          CUG       AUU       AUC  ...   SeqLen  BiasedSeqLen  \\\n",
       "39   0.153846  0.113043  0.869565  ...   7302.0          7302   \n",
       "44   0.231293  0.506173  0.049383  ...   7050.0          5460   \n",
       "45   0.089385  0.500000  0.016129  ...   7446.0          6618   \n",
       "81   0.133094  0.441860  0.279070  ...  10071.0          6633   \n",
       "105  0.076208  0.533742  0.085890  ...  38286.0         36633   \n",
       "\n",
       "     PropBiasedRegions         Nc   BiasedNc                     Species  \\\n",
       "39              1.0000  39.524815  39.524815                Aichivirus_A   \n",
       "44              0.7745  53.511482  52.667167       Alphapapillomavirus_3   \n",
       "45              0.8888  44.670709  43.318601       Alphapapillomavirus_9   \n",
       "81              0.6586  50.229824  49.511421  Argentinian_mammarenavirus   \n",
       "105             0.9568  45.779523  45.499817           Avian_coronavirus   \n",
       "\n",
       "     Taxon               Host               Taxonomy name  Human_Host  \n",
       "39   viral  human,vertebrates                Aichivirus A        True  \n",
       "44   viral              human       Alphapapillomavirus 3        True  \n",
       "45   viral              human       Alphapapillomavirus 9        True  \n",
       "81   viral  human,vertebrates  Argentinian mammarenavirus        True  \n",
       "105  viral  human,vertebrates           Avian coronavirus        True  \n",
       "\n",
       "[5 rows x 75 columns]"
      ]
     },
     "execution_count": 13,
     "metadata": {},
     "output_type": "execute_result"
    }
   ],
   "source": [
    "viral_drop_columns = drop_columns + [\"Host\", \"Taxonomy name\", \"Human_Host\"]\n",
    "virus_cub_short.head()"
   ]
  },
  {
   "cell_type": "code",
   "execution_count": 14,
   "id": "incomplete-letters",
   "metadata": {},
   "outputs": [
    {
     "data": {
      "image/png": "[encoded data removed]",
      "text/plain": [
       "<Figure size 432x288 with 1 Axes>"
      ]
     },
     "metadata": {
      "needs_background": "light"
     },
     "output_type": "display_data"
    }
   ],
   "source": [
    "# visualize virus_cub_short\n",
    "virus_2d = reduce_dim(virus_cub_short, dim=2, drop_columns=viral_drop_columns)\n",
    "virus_2d.head()\n",
    "sns.scatterplot(data=virus_2d, x='Dim1', y='Dim2', hue='Human_Host')\n",
    "plt.xlabel('Principal Component 1')\n",
    "plt.ylabel('Principal Component 2');"
   ]
  },
  {
   "cell_type": "code",
   "execution_count": 15,
   "id": "seeing-dialogue",
   "metadata": {},
   "outputs": [
    {
     "data": {
      "text/html": [
       "<div>\n",
       "<style scoped>\n",
       "    .dataframe tbody tr th:only-of-type {\n",
       "        vertical-align: middle;\n",
       "    }\n",
       "\n",
       "    .dataframe tbody tr th {\n",
       "        vertical-align: top;\n",
       "    }\n",
       "\n",
       "    .dataframe thead th {\n",
       "        text-align: right;\n",
       "    }\n",
       "</style>\n",
       "<table border=\"1\" class=\"dataframe\">\n",
       "  <thead>\n",
       "    <tr style=\"text-align: right;\">\n",
       "      <th></th>\n",
       "      <th>UUU</th>\n",
       "      <th>UUC</th>\n",
       "      <th>UUA</th>\n",
       "      <th>UUG</th>\n",
       "      <th>CUU</th>\n",
       "      <th>CUC</th>\n",
       "      <th>CUA</th>\n",
       "      <th>CUG</th>\n",
       "      <th>AUU</th>\n",
       "      <th>AUC</th>\n",
       "      <th>...</th>\n",
       "      <th>CGC</th>\n",
       "      <th>CGA</th>\n",
       "      <th>CGG</th>\n",
       "      <th>AGA</th>\n",
       "      <th>AGG</th>\n",
       "      <th>GGU</th>\n",
       "      <th>GGC</th>\n",
       "      <th>GGA</th>\n",
       "      <th>GGG</th>\n",
       "      <th>Human_Host</th>\n",
       "    </tr>\n",
       "  </thead>\n",
       "  <tbody>\n",
       "    <tr>\n",
       "      <th>39</th>\n",
       "      <td>0.138614</td>\n",
       "      <td>0.861386</td>\n",
       "      <td>0.009050</td>\n",
       "      <td>0.045249</td>\n",
       "      <td>0.167421</td>\n",
       "      <td>0.597285</td>\n",
       "      <td>0.027149</td>\n",
       "      <td>0.153846</td>\n",
       "      <td>0.113043</td>\n",
       "      <td>0.869565</td>\n",
       "      <td>...</td>\n",
       "      <td>0.561905</td>\n",
       "      <td>0.057143</td>\n",
       "      <td>0.171429</td>\n",
       "      <td>0.047619</td>\n",
       "      <td>0.047619</td>\n",
       "      <td>0.250000</td>\n",
       "      <td>0.410256</td>\n",
       "      <td>0.224359</td>\n",
       "      <td>0.115385</td>\n",
       "      <td>True</td>\n",
       "    </tr>\n",
       "    <tr>\n",
       "      <th>44</th>\n",
       "      <td>0.867647</td>\n",
       "      <td>0.132353</td>\n",
       "      <td>0.251701</td>\n",
       "      <td>0.217687</td>\n",
       "      <td>0.136054</td>\n",
       "      <td>0.027211</td>\n",
       "      <td>0.136054</td>\n",
       "      <td>0.231293</td>\n",
       "      <td>0.506173</td>\n",
       "      <td>0.049383</td>\n",
       "      <td>...</td>\n",
       "      <td>0.274510</td>\n",
       "      <td>0.049020</td>\n",
       "      <td>0.107843</td>\n",
       "      <td>0.166667</td>\n",
       "      <td>0.186275</td>\n",
       "      <td>0.209677</td>\n",
       "      <td>0.258065</td>\n",
       "      <td>0.193548</td>\n",
       "      <td>0.338710</td>\n",
       "      <td>True</td>\n",
       "    </tr>\n",
       "    <tr>\n",
       "      <th>45</th>\n",
       "      <td>0.950000</td>\n",
       "      <td>0.050000</td>\n",
       "      <td>0.541899</td>\n",
       "      <td>0.167598</td>\n",
       "      <td>0.078212</td>\n",
       "      <td>0.005587</td>\n",
       "      <td>0.117318</td>\n",
       "      <td>0.089385</td>\n",
       "      <td>0.500000</td>\n",
       "      <td>0.016129</td>\n",
       "      <td>...</td>\n",
       "      <td>0.108911</td>\n",
       "      <td>0.158416</td>\n",
       "      <td>0.039604</td>\n",
       "      <td>0.376238</td>\n",
       "      <td>0.158416</td>\n",
       "      <td>0.398438</td>\n",
       "      <td>0.125000</td>\n",
       "      <td>0.335938</td>\n",
       "      <td>0.140625</td>\n",
       "      <td>True</td>\n",
       "    </tr>\n",
       "    <tr>\n",
       "      <th>81</th>\n",
       "      <td>0.677966</td>\n",
       "      <td>0.322034</td>\n",
       "      <td>0.205036</td>\n",
       "      <td>0.273381</td>\n",
       "      <td>0.143885</td>\n",
       "      <td>0.079137</td>\n",
       "      <td>0.165468</td>\n",
       "      <td>0.133094</td>\n",
       "      <td>0.441860</td>\n",
       "      <td>0.279070</td>\n",
       "      <td>...</td>\n",
       "      <td>0.016807</td>\n",
       "      <td>0.067227</td>\n",
       "      <td>0.025210</td>\n",
       "      <td>0.546218</td>\n",
       "      <td>0.319328</td>\n",
       "      <td>0.287129</td>\n",
       "      <td>0.158416</td>\n",
       "      <td>0.277228</td>\n",
       "      <td>0.277228</td>\n",
       "      <td>True</td>\n",
       "    </tr>\n",
       "    <tr>\n",
       "      <th>105</th>\n",
       "      <td>0.779070</td>\n",
       "      <td>0.220930</td>\n",
       "      <td>0.236989</td>\n",
       "      <td>0.232342</td>\n",
       "      <td>0.298327</td>\n",
       "      <td>0.060409</td>\n",
       "      <td>0.095725</td>\n",
       "      <td>0.076208</td>\n",
       "      <td>0.533742</td>\n",
       "      <td>0.085890</td>\n",
       "      <td>...</td>\n",
       "      <td>0.134211</td>\n",
       "      <td>0.055263</td>\n",
       "      <td>0.031579</td>\n",
       "      <td>0.339474</td>\n",
       "      <td>0.168421</td>\n",
       "      <td>0.605938</td>\n",
       "      <td>0.147099</td>\n",
       "      <td>0.197031</td>\n",
       "      <td>0.049933</td>\n",
       "      <td>True</td>\n",
       "    </tr>\n",
       "  </tbody>\n",
       "</table>\n",
       "<p>5 rows × 60 columns</p>\n",
       "</div>"
      ],
      "text/plain": [
       "          UUU       UUC       UUA       UUG       CUU       CUC       CUA  \\\n",
       "39   0.138614  0.861386  0.009050  0.045249  0.167421  0.597285  0.027149   \n",
       "44   0.867647  0.132353  0.251701  0.217687  0.136054  0.027211  0.136054   \n",
       "45   0.950000  0.050000  0.541899  0.167598  0.078212  0.005587  0.117318   \n",
       "81   0.677966  0.322034  0.205036  0.273381  0.143885  0.079137  0.165468   \n",
       "105  0.779070  0.220930  0.236989  0.232342  0.298327  0.060409  0.095725   \n",
       "\n",
       "          CUG       AUU       AUC  ...       CGC       CGA       CGG  \\\n",
       "39   0.153846  0.113043  0.869565  ...  0.561905  0.057143  0.171429   \n",
       "44   0.231293  0.506173  0.049383  ...  0.274510  0.049020  0.107843   \n",
       "45   0.089385  0.500000  0.016129  ...  0.108911  0.158416  0.039604   \n",
       "81   0.133094  0.441860  0.279070  ...  0.016807  0.067227  0.025210   \n",
       "105  0.076208  0.533742  0.085890  ...  0.134211  0.055263  0.031579   \n",
       "\n",
       "          AGA       AGG       GGU       GGC       GGA       GGG  Human_Host  \n",
       "39   0.047619  0.047619  0.250000  0.410256  0.224359  0.115385        True  \n",
       "44   0.166667  0.186275  0.209677  0.258065  0.193548  0.338710        True  \n",
       "45   0.376238  0.158416  0.398438  0.125000  0.335938  0.140625        True  \n",
       "81   0.546218  0.319328  0.287129  0.158416  0.277228  0.277228        True  \n",
       "105  0.339474  0.168421  0.605938  0.147099  0.197031  0.049933        True  \n",
       "\n",
       "[5 rows x 60 columns]"
      ]
     },
     "execution_count": 15,
     "metadata": {},
     "output_type": "execute_result"
    }
   ],
   "source": [
    "# dataset for our classifier, with just CUB and Human_Host columns\n",
    "\n",
    "virus_cub_short_num = virus_cub_short.drop(columns=viral_drop_columns[:-1]) # keep Human_Host\n",
    "virus_cub_short_num.head()"
   ]
  },
  {
   "cell_type": "markdown",
   "id": "committed-spain",
   "metadata": {},
   "source": [
    "### and now, we build the classifier..."
   ]
  },
  {
   "cell_type": "code",
   "execution_count": 22,
   "id": "complex-cutting",
   "metadata": {},
   "outputs": [
    {
     "data": {
      "text/plain": [
       "(278, 60)"
      ]
     },
     "execution_count": 22,
     "metadata": {},
     "output_type": "execute_result"
    }
   ],
   "source": [
    "# separate data into test/train and validation sets\n",
    "np.random.seed(88)\n",
    "virus_valid, virus_tt = divide_data(virus_cub_short_num)\n",
    "virus_tt.shape"
   ]
  },
  {
   "cell_type": "code",
   "execution_count": 17,
   "id": "noted-proportion",
   "metadata": {},
   "outputs": [
    {
     "data": {
      "text/plain": [
       "array([['tree', 0.24417989417989422],\n",
       "       ['forest', 0.2736772486772487],\n",
       "       ['neighbor', 0.2740740740740741],\n",
       "       ['SVM', 0.4072751322751323]], dtype=object)"
      ]
     },
     "execution_count": 17,
     "metadata": {},
     "output_type": "execute_result"
    }
   ],
   "source": [
    "# cross-validation for model selection\n",
    "\n",
    "# get all cv errors for each method\n",
    "cv_errors = all_cv_errors(virus_tt, ['neighbor', 'tree', 'forest', 'SVM'])\n",
    "\n",
    "# store best method\n",
    "best_method = cv_errors[0,0]\n",
    "lowest_cv_err = cv_errors[0,1]\n",
    "\n",
    "cv_errors"
   ]
  },
  {
   "cell_type": "code",
   "execution_count": 18,
   "id": "stylish-aggregate",
   "metadata": {},
   "outputs": [
    {
     "name": "stdout",
     "output_type": "stream",
     "text": [
      "best model\n",
      "method:   tree\n",
      "error:    0.24417989417989422\n"
     ]
    }
   ],
   "source": [
    "# print best model\n",
    "print('best model')\n",
    "print('method:  ', best_method)\n",
    "print('error:   ', lowest_cv_err)"
   ]
  },
  {
   "cell_type": "code",
   "execution_count": 19,
   "id": "exposed-acrobat",
   "metadata": {},
   "outputs": [
    {
     "data": {
      "text/plain": [
       "DecisionTreeClassifier(ccp_alpha=0.0, class_weight=None, criterion='gini',\n",
       "                       max_depth=None, max_features=None, max_leaf_nodes=None,\n",
       "                       min_impurity_decrease=0.0, min_impurity_split=None,\n",
       "                       min_samples_leaf=1, min_samples_split=2,\n",
       "                       min_weight_fraction_leaf=0.0, presort='deprecated',\n",
       "                       random_state=None, splitter='best')"
      ]
     },
     "execution_count": 19,
     "metadata": {},
     "output_type": "execute_result"
    }
   ],
   "source": [
    "# build best type of model\n",
    "# mod_virus = KNeighborsClassifier(n_neighbors = 9)\n",
    "# mod_virus = SVC(kernel=\"sigmoid\")\n",
    "mod_virus = DecisionTreeClassifier()\n",
    "# mod_virus = RandomForestClassifier(n_estimators=20, max_features=min(3, virus_tt.shape[1] - 1), max_depth=3, random_state=0)\n",
    "mod_virus.fit(virus_tt.iloc[:,:-1], virus_tt.iloc[:,-1]) # from all but the last column, predict last column"
   ]
  },
  {
   "cell_type": "code",
   "execution_count": 20,
   "id": "black-baking",
   "metadata": {},
   "outputs": [
    {
     "name": "stdout",
     "output_type": "stream",
     "text": [
      "validation error:            0.3\n",
      "best cross-validation error: 0.24417989417989422\n"
     ]
    }
   ],
   "source": [
    "# validate the model\n",
    "# compute validation error\n",
    "val_preds = mod_virus.predict(virus_valid.iloc[:,:-1])\n",
    "val_error = classification_mse(val_preds, virus_valid.iloc[:,-1])\n",
    "print('validation error:           ', val_error)\n",
    "print('best cross-validation error:', lowest_cv_err)"
   ]
  },
  {
   "cell_type": "code",
   "execution_count": 21,
   "id": "pending-syracuse",
   "metadata": {},
   "outputs": [
    {
     "name": "stdout",
     "output_type": "stream",
     "text": [
      "\tactual class\n",
      "   p\t\t   n\n",
      "tp: 0.53\tfp: 0.08\n",
      "fn: 0.47\ttn: 0.92\n"
     ]
    }
   ],
   "source": [
    "# confusion matrix\n",
    "tp = np.sum((virus_valid.iloc[:,-1]) & (val_preds == 1))  # true positive\n",
    "tn = np.sum(~(virus_valid.iloc[:,-1]) & (val_preds == 0))  # true negative\n",
    "fp = np.sum(~(virus_valid.iloc[:,-1]) & (val_preds == 1)) # false positive  # type 1 error\n",
    "fn = np.sum((virus_valid.iloc[:,-1]) & (val_preds == 0)) # false negative   # type 2 error\n",
    "print('\\tactual class')\n",
    "print('   p\\t\\t   n')\n",
    "print(f'tp: {tp/(tp+fn):.2f}\\tfp: {fp/(tn+fp):.2f}')\n",
    "print(f'fn: {fn/(tp+fn):.2f}\\ttn: {tn/(tn+fp):.2f}')"
   ]
  },
  {
   "cell_type": "markdown",
   "id": "comprehensive-optimization",
   "metadata": {},
   "source": [
    "In our validation set, we correctly predicted whether a virus is hosted by humans or not 70% of the time. Thus, our model performs moderately well, and certainly better than random chance. The moderate success of this classifier  suggests that CUB may be a useful predictor of whether a virus may infect humans, alongside other factors. Potential applications could include incorporating CUB as a factor in models that predict emerging viral threats to the human species."
   ]
  }
 ],
 "metadata": {
  "kernelspec": {
   "display_name": "Python 3",
   "language": "python",
   "name": "python3"
  },
  "language_info": {
   "codemirror_mode": {
    "name": "ipython",
    "version": 3
   },
   "file_extension": ".py",
   "mimetype": "text/x-python",
   "name": "python",
   "nbconvert_exporter": "python",
   "pygments_lexer": "ipython3",
   "version": "3.8.2"
  }
 },
 "nbformat": 4,
 "nbformat_minor": 5
}
